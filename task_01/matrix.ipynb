{
 "cells": [
  {
   "cell_type": "code",
   "execution_count": 1,
   "metadata": {},
   "outputs": [],
   "source": [
    "import numpy as np\n",
    "from random import random"
   ]
  },
  {
   "cell_type": "code",
   "execution_count": 4,
   "metadata": {},
   "outputs": [],
   "source": [
    "def generate_random_number() -> float:\n",
    "  result = random() * 10\n",
    "  return result"
   ]
  },
  {
   "cell_type": "code",
   "execution_count": 14,
   "metadata": {},
   "outputs": [],
   "source": [
    "def create_matrix(number_of_rows: int) -> np.ndarray:\n",
    "  matrix = np.empty([number_of_rows, number_of_rows])\n",
    "\n",
    "  for i in range(number_of_rows):\n",
    "    for j in range(number_of_rows):\n",
    "      matrix[i][j] = generate_random_number()\n",
    "      \n",
    "  return matrix"
   ]
  },
  {
   "cell_type": "code",
   "execution_count": 17,
   "metadata": {},
   "outputs": [],
   "source": [
    "def create_vector(number_of_rows: int) -> np.ndarray:\n",
    "  vector = np.empty(number_of_rows)\n",
    "  \n",
    "  for i in range(number_of_rows):\n",
    "    vector[i] = generate_random_number()\n",
    "  \n",
    "  return vector"
   ]
  },
  {
   "cell_type": "code",
   "execution_count": 22,
   "metadata": {},
   "outputs": [],
   "source": [
    "def multiply_matrix_vector(matrix: np.ndarray, vector: np.ndarray, number_of_rows: int) -> np.ndarray:\n",
    "\n",
    "  result = np.empty(number_of_rows)\n",
    "\n",
    "  for i in range(number_of_rows):\n",
    "    result[i] = 0\n",
    "    for j in range(number_of_rows):\n",
    "      result[i] += matrix[i][j] * vector[j]\n",
    "  \n",
    "  return result"
   ]
  },
  {
   "cell_type": "code",
   "execution_count": 29,
   "metadata": {},
   "outputs": [],
   "source": [
    "NUMBER_OF_ROWS = 3"
   ]
  },
  {
   "cell_type": "code",
   "execution_count": 30,
   "metadata": {},
   "outputs": [],
   "source": [
    "A = create_matrix(NUMBER_OF_ROWS)\n",
    "x = create_vector(NUMBER_OF_ROWS)\n",
    "b = multiply_matrix_vector(A, x, NUMBER_OF_ROWS)"
   ]
  },
  {
   "cell_type": "code",
   "execution_count": 61,
   "metadata": {},
   "outputs": [
    {
     "data": {
      "text/plain": [
       "True"
      ]
     },
     "execution_count": 61,
     "metadata": {},
     "output_type": "execute_result"
    }
   ],
   "source": []
  },
  {
   "cell_type": "code",
   "execution_count": null,
   "metadata": {},
   "outputs": [],
   "source": []
  }
 ],
 "metadata": {
  "interpreter": {
   "hash": "60ff1e52c896201b96a9b41e4b3dadea7fff4726816788b6e8ae13b56c892377"
  },
  "kernelspec": {
   "display_name": "Python 3.9.12 ('.venv': venv)",
   "language": "python",
   "name": "python3"
  },
  "language_info": {
   "codemirror_mode": {
    "name": "ipython",
    "version": 3
   },
   "file_extension": ".py",
   "mimetype": "text/x-python",
   "name": "python",
   "nbconvert_exporter": "python",
   "pygments_lexer": "ipython3",
   "version": "3.9.12"
  },
  "orig_nbformat": 4
 },
 "nbformat": 4,
 "nbformat_minor": 2
}
